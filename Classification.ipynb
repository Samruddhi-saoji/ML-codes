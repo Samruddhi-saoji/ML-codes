{
  "nbformat": 4,
  "nbformat_minor": 0,
  "metadata": {
    "colab": {
      "provenance": [],
      "authorship_tag": "ABX9TyM50PYAU4hyEPP5rg9isVq8",
      "include_colab_link": true
    },
    "kernelspec": {
      "name": "python3",
      "display_name": "Python 3"
    },
    "language_info": {
      "name": "python"
    }
  },
  "cells": [
    {
      "cell_type": "markdown",
      "metadata": {
        "id": "view-in-github",
        "colab_type": "text"
      },
      "source": [
        "<a href=\"https://colab.research.google.com/github/Samruddhi-saoji/ML-codes/blob/main/Classification.ipynb\" target=\"_parent\"><img src=\"https://colab.research.google.com/assets/colab-badge.svg\" alt=\"Open In Colab\"/></a>"
      ]
    },
    {
      "cell_type": "code",
      "execution_count": null,
      "metadata": {
        "id": "l9PZvoK1uZeF"
      },
      "outputs": [],
      "source": [
        "import numpy as np\n",
        "import matplotlib.pyplot as plt\n",
        "import pandas as pd\n",
        "from sklearn.metrics import accuracy_score, classification_report"
      ]
    },
    {
      "cell_type": "markdown",
      "source": [
        "# Dataset"
      ],
      "metadata": {
        "id": "zulBCCyaxjoH"
      }
    },
    {
      "cell_type": "markdown",
      "source": [
        "Iris Flower dataset"
      ],
      "metadata": {
        "id": "8Y0UpYw_xs-H"
      }
    },
    {
      "cell_type": "markdown",
      "source": [
        "About the dataset\n",
        "- 150 images total. 50 in each class\n",
        "- classes:\n",
        " - setosa\n",
        " - versicolor\n",
        " - virginica\n",
        "\n",
        "- features:\n",
        " - sepal length\n",
        " - sepal width\n",
        " - petal length\n",
        " - petal width"
      ],
      "metadata": {
        "id": "8pzDiNZD1jlZ"
      }
    },
    {
      "cell_type": "code",
      "source": [
        "from sklearn.model_selection import train_test_split\n",
        "from sklearn.datasets import load_iris"
      ],
      "metadata": {
        "id": "w-mULLLvxlSw"
      },
      "execution_count": null,
      "outputs": []
    },
    {
      "cell_type": "code",
      "source": [
        "# Load the dataset\n",
        "iris = load_iris()\n",
        "X, y = iris.data, iris.target\n",
        "\n",
        "# Split data into training and testing sets\n",
        "X_train, X_test, y_train, y_test = train_test_split(X, y, test_size=0.2, random_state=42)"
      ],
      "metadata": {
        "id": "xm5382Ugx1LB"
      },
      "execution_count": null,
      "outputs": []
    },
    {
      "cell_type": "markdown",
      "source": [
        "# Classification algorithms"
      ],
      "metadata": {
        "id": "ks6u3-zpxg1U"
      }
    },
    {
      "cell_type": "markdown",
      "source": [
        "## Logistic Regression"
      ],
      "metadata": {
        "id": "yqfwugiBwx1r"
      }
    },
    {
      "cell_type": "code",
      "source": [
        "from sklearn.linear_model import LogisticRegression"
      ],
      "metadata": {
        "id": "S5NXdNzfXDfs"
      },
      "execution_count": null,
      "outputs": []
    },
    {
      "cell_type": "code",
      "source": [
        "# Initialize the model\n",
        "model = LogisticRegression(max_iter=200)\n",
        "\n",
        "# Training\n",
        "model.fit(X_train, y_train)\n",
        "\n",
        "# Testing\n",
        "y_pred = model.predict(X_test)\n",
        "\n",
        "# Evaluate model (accuracy)\n",
        "accuracy = accuracy_score(y_test, y_pred)\n",
        "print(\"Accuracy: \", accuracy)"
      ],
      "metadata": {
        "id": "-ZxYD1dcxVy4",
        "colab": {
          "base_uri": "https://localhost:8080/"
        },
        "outputId": "f5e3aee8-77aa-430d-9480-38fcaef15cc8"
      },
      "execution_count": null,
      "outputs": [
        {
          "output_type": "stream",
          "name": "stdout",
          "text": [
            "Accuracy:  1.0\n"
          ]
        }
      ]
    },
    {
      "cell_type": "code",
      "source": [
        "'''making a single prediction'''\n",
        "\n",
        "# new data\n",
        "feature_values = [5.1, 3.5, 1.4, 0.2]\n",
        "input = [feature_values] # 2D array as input\n",
        "\n",
        "# apply feature scaling to input, if the training data has also been scaled\n",
        "\n",
        "# making a prediction\n",
        "prediction = model.predict(input)\n",
        "\n",
        "# Get the predicted class\n",
        "predicted_class = iris.target_names[prediction][0]\n",
        "print(f\"The predicted class is: {predicted_class}\")"
      ],
      "metadata": {
        "colab": {
          "base_uri": "https://localhost:8080/"
        },
        "id": "1P1iyoIUX4It",
        "outputId": "834cbed0-55dd-4d39-81c1-cd3f9fb95c1a"
      },
      "execution_count": null,
      "outputs": [
        {
          "output_type": "stream",
          "name": "stdout",
          "text": [
            "The predicted class is: setosa\n"
          ]
        }
      ]
    },
    {
      "cell_type": "markdown",
      "source": [
        "## KNN"
      ],
      "metadata": {
        "id": "xK04k8Krw3Jg"
      }
    },
    {
      "cell_type": "code",
      "source": [
        "from sklearn.neighbors import KNeighborsClassifier"
      ],
      "metadata": {
        "id": "tSe3V_N0yAw_"
      },
      "execution_count": null,
      "outputs": []
    },
    {
      "cell_type": "code",
      "source": [
        "K = 3\n",
        "\n",
        "# create the classifier model\n",
        "knn = KNeighborsClassifier(n_neighbors=K)\n",
        "\n",
        "# Training\n",
        "knn.fit(X_train, y_train)\n",
        "\n",
        "# Testing\n",
        "y_pred = knn.predict(X_test)\n",
        "\n",
        "# Evaluate model (accuracy)\n",
        "accuracy = accuracy_score(y_test, y_pred)\n",
        "print(\"Accuracy: \", accuracy)"
      ],
      "metadata": {
        "colab": {
          "base_uri": "https://localhost:8080/"
        },
        "id": "D-vEmAiXw6IJ",
        "outputId": "4574d273-27e1-4456-9f31-5637304c84c5"
      },
      "execution_count": null,
      "outputs": [
        {
          "output_type": "stream",
          "name": "stdout",
          "text": [
            "Accuracy:  1.0\n"
          ]
        }
      ]
    },
    {
      "cell_type": "code",
      "source": [
        "'''making a single prediction'''\n",
        "\n",
        "# new data\n",
        "feature_values = [5.1, 3.5, 1.4, 0.2]\n",
        "input = [feature_values] # 2D array as input\n",
        "\n",
        "# apply feature scaling to input, if the training data has also been scaled\n",
        "\n",
        "# Make a prediction\n",
        "prediction = knn.predict(input)\n",
        "\n",
        "# Get the predicted class\n",
        "predicted_class = iris.target_names[prediction][0]\n",
        "print(f\"The predicted class is: {predicted_class}\")"
      ],
      "metadata": {
        "id": "ADa4pk0Q4c4P",
        "colab": {
          "base_uri": "https://localhost:8080/"
        },
        "outputId": "8d73d066-3f6e-4aff-9ba9-aa5f7fa4ee45"
      },
      "execution_count": null,
      "outputs": [
        {
          "output_type": "stream",
          "name": "stdout",
          "text": [
            "The predicted class is: setosa\n"
          ]
        }
      ]
    },
    {
      "cell_type": "markdown",
      "source": [
        "## Naive Bayes Classifier"
      ],
      "metadata": {
        "id": "CULspCe4w6tQ"
      }
    },
    {
      "cell_type": "code",
      "source": [],
      "metadata": {
        "id": "4a8z6AVWxWlm"
      },
      "execution_count": null,
      "outputs": []
    }
  ]
}